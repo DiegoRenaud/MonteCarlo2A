{
 "cells": [
  {
   "cell_type": "code",
   "execution_count": 4,
   "id": "4fc4a3b1-c368-4596-82bc-c29abb1e9b4e",
   "metadata": {
    "tags": []
   },
   "outputs": [
    {
     "name": "stdout",
     "output_type": "stream",
     "text": [
      "Collecting qmcpy\n",
      "  Downloading qmcpy-1.3.2.tar.gz (7.4 MB)\n",
      "\u001b[2K     \u001b[90m━━━━━━━━━━━━━━━━━━━━━━━━━━━━━━━━━━━━━━━━\u001b[0m \u001b[32m7.4/7.4 MB\u001b[0m \u001b[31m4.7 MB/s\u001b[0m eta \u001b[36m0:00:00\u001b[0m00:01\u001b[0m00:01\u001b[0mm\n",
      "\u001b[?25h  Preparing metadata (setup.py) ... \u001b[?25ldone\n",
      "\u001b[?25hRequirement already satisfied: numpy>=1.17.0 in /opt/mamba/lib/python3.10/site-packages (from qmcpy) (1.23.5)\n",
      "Requirement already satisfied: scipy>=1.0.0 in /opt/mamba/lib/python3.10/site-packages (from qmcpy) (1.10.1)\n",
      "Building wheels for collected packages: qmcpy\n",
      "  Building wheel for qmcpy (setup.py) ... \u001b[?25ldone\n",
      "\u001b[?25h  Created wheel for qmcpy: filename=qmcpy-1.3.2-cp310-cp310-linux_x86_64.whl size=7663967 sha256=ff73fbabb0a2c6e42c17b23a5755e9e512a341309dd10c0f441136d8c04697cd\n",
      "  Stored in directory: /home/onyxia/.cache/pip/wheels/10/ec/5f/53013ccd46b81f9525d66e1abb64b3ed5af1c3e06c55d35330\n",
      "Successfully built qmcpy\n",
      "Installing collected packages: qmcpy\n",
      "Successfully installed qmcpy-1.3.2\n"
     ]
    },
    {
     "ename": "NameError",
     "evalue": "name 'd' is not defined",
     "output_type": "error",
     "traceback": [
      "\u001b[0;31m---------------------------------------------------------------------------\u001b[0m",
      "\u001b[0;31mNameError\u001b[0m                                 Traceback (most recent call last)",
      "Cell \u001b[0;32mIn[4], line 12\u001b[0m\n\u001b[1;32m      9\u001b[0m     \u001b[38;5;28;01mreturn\u001b[39;00m \u001b[38;5;241m1\u001b[39m \u001b[38;5;241m+\u001b[39m np\u001b[38;5;241m.\u001b[39msin(\u001b[38;5;241m2\u001b[39m\u001b[38;5;241m*\u001b[39mnp\u001b[38;5;241m.\u001b[39mpi\u001b[38;5;241m*\u001b[39mnp\u001b[38;5;241m.\u001b[39mmean(u \u001b[38;5;241m-\u001b[39m \u001b[38;5;241m0.5\u001b[39m))\n\u001b[1;32m     11\u001b[0m \u001b[38;5;66;03m# Define the integration bounds and error tolerance\u001b[39;00m\n\u001b[0;32m---> 12\u001b[0m bounds \u001b[38;5;241m=\u001b[39m [(\u001b[38;5;241m0\u001b[39m, \u001b[38;5;241m1\u001b[39m) \u001b[38;5;28;01mfor\u001b[39;00m i \u001b[38;5;129;01min\u001b[39;00m \u001b[38;5;28mrange\u001b[39m(\u001b[43md\u001b[49m)]\n\u001b[1;32m     13\u001b[0m tol \u001b[38;5;241m=\u001b[39m \u001b[38;5;241m1e-4\u001b[39m\n\u001b[1;32m     15\u001b[0m \u001b[38;5;66;03m# Define the number of Monte Carlo samples and Sobol sequence points\u001b[39;00m\n",
      "\u001b[0;31mNameError\u001b[0m: name 'd' is not defined"
     ]
    }
   ],
   "source": [
    "!pip install qmcpy\n",
    "import numpy as np\n",
    "from scipy.integrate import quad\n",
    "from qmcpy import Sobol\n",
    "\n",
    "# Define the function f\n",
    "def f(u):\n",
    "    d = u.shape[0]\n",
    "    return 1 + np.sin(2*np.pi*np.mean(u - 0.5))\n",
    "\n",
    "# Define the integration bounds and error tolerance\n",
    "bounds = [(0, 1) for i in range(d)]\n",
    "tol = 1e-4\n",
    "\n",
    "# Define the number of Monte Carlo samples and Sobol sequence points\n",
    "n_mc = 100000\n",
    "n_qmc = 1000\n",
    "\n",
    "# Loop over different values of d\n",
    "for d in [1, 2, 5, 10]:\n",
    "\n",
    "# Standard Monte Carlo\n",
    "    mc_samples = np.random.uniform(size=(n_mc, d))\n",
    "    mc_estimate = np.mean(f(mc_samples))\n",
    "    mc_error = np.abs(quad(f, *bounds)[0] - mc_estimate)\n",
    "\n",
    "# Quasi-Monte Carlo with Sobol sequence\n",
    "    qmc_sequence = Sobol(d, seed=7).gen_samples(n_qmc)\n",
    "    qmc_estimate = np.mean(f(qmc_sequence))\n",
    "    qmc_error = np.abs(quad(f, *bounds)[0] - qmc_estimate)\n",
    "\n",
    "# Print the results\n",
    "    print(f\"d={d}:\")\n",
    "    print(f\"MC estimate: {mc_estimate}, error: {mc_error}\")\n",
    "    print(f\"QMC estimate: {qmc_estimate}, error: {qmc_error}\")\n",
    "    print(\"=\"*50)"
   ]
  },
  {
   "cell_type": "code",
   "execution_count": null,
   "id": "f2250ecd-b817-4f3e-9858-db29f41906a6",
   "metadata": {},
   "outputs": [],
   "source": []
  }
 ],
 "metadata": {
  "kernelspec": {
   "display_name": "Python 3 (ipykernel)",
   "language": "python",
   "name": "python3"
  },
  "language_info": {
   "codemirror_mode": {
    "name": "ipython",
    "version": 3
   },
   "file_extension": ".py",
   "mimetype": "text/x-python",
   "name": "python",
   "nbconvert_exporter": "python",
   "pygments_lexer": "ipython3",
   "version": "3.10.9"
  }
 },
 "nbformat": 4,
 "nbformat_minor": 5
}
