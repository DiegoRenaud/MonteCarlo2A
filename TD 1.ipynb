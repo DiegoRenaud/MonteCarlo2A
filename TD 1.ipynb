{
 "cells": [
  {
   "cell_type": "markdown",
   "id": "46bf7e35-adc9-4153-b705-1d58da6f474e",
   "metadata": {},
   "source": [
    "Exercice RANDU"
   ]
  },
  {
   "cell_type": "code",
   "execution_count": null,
   "id": "9c0cdff8-aca8-4a19-be86-ca188464e16d",
   "metadata": {},
   "outputs": [],
   "source": []
  }
 ],
 "metadata": {
  "kernelspec": {
   "display_name": "Python 3 (ipykernel)",
   "language": "python",
   "name": "python3"
  },
  "language_info": {
   "codemirror_mode": {
    "name": "ipython",
    "version": 3
   },
   "file_extension": ".py",
   "mimetype": "text/x-python",
   "name": "python",
   "nbconvert_exporter": "python",
   "pygments_lexer": "ipython3",
   "version": "3.10.8"
  }
 },
 "nbformat": 4,
 "nbformat_minor": 5
}
